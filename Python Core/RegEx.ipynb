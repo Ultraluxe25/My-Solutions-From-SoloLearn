{
 "cells": [
  {
   "cell_type": "markdown",
   "id": "48673da0",
   "metadata": {},
   "source": [
    "# Регулярные выражения"
   ]
  },
  {
   "cell_type": "code",
   "execution_count": 5,
   "id": "25901966",
   "metadata": {},
   "outputs": [],
   "source": [
    "import re"
   ]
  },
  {
   "cell_type": "code",
   "execution_count": 4,
   "id": "ce65edd1",
   "metadata": {},
   "outputs": [
    {
     "data": {
      "text/plain": [
       "<re.Match object; span=(0, 4), match='spam'>"
      ]
     },
     "execution_count": 4,
     "metadata": {},
     "output_type": "execute_result"
    }
   ],
   "source": [
    "pattern = r'spam'\n",
    "re.match(pattern, 'spamspamspam')"
   ]
  },
  {
   "cell_type": "code",
   "execution_count": 5,
   "id": "961f0e83",
   "metadata": {},
   "outputs": [
    {
     "data": {
      "text/plain": [
       "['spam', 'spam']"
      ]
     },
     "execution_count": 5,
     "metadata": {},
     "output_type": "execute_result"
    }
   ],
   "source": [
    "re.findall('spam', 'eggspamsausagespam')"
   ]
  },
  {
   "cell_type": "code",
   "execution_count": 6,
   "id": "b745643e",
   "metadata": {},
   "outputs": [
    {
     "name": "stdout",
     "output_type": "stream",
     "text": [
      "pam\n",
      "4\n",
      "7\n",
      "(4, 7)\n"
     ]
    }
   ],
   "source": [
    "pattern = r\"pam\"\n",
    "\n",
    "match = re.search(pattern, \"eggspamsausage\")\n",
    "if match:\n",
    "    print(match.group())\n",
    "    print(match.start())\n",
    "    print(match.end())\n",
    "    print(match.span())"
   ]
  },
  {
   "cell_type": "code",
   "execution_count": 8,
   "id": "fb8d8805",
   "metadata": {},
   "outputs": [
    {
     "name": "stdout",
     "output_type": "stream",
     "text": [
      "My name is Amy. Hi Amy.\n"
     ]
    }
   ],
   "source": [
    "str = 'My name is David. Hi David.'\n",
    "pattern = r'David'\n",
    "newstr = re.sub(pattern, 'Amy', str)\n",
    "print(newstr)"
   ]
  },
  {
   "cell_type": "code",
   "execution_count": 3,
   "id": "48188067",
   "metadata": {},
   "outputs": [],
   "source": [
    "pattern = r'[aeiou]'  # ищeм конкретные символы из класса символов"
   ]
  },
  {
   "cell_type": "code",
   "execution_count": 7,
   "id": "249cab14",
   "metadata": {},
   "outputs": [
    {
     "name": "stdout",
     "output_type": "stream",
     "text": [
      "match 1\n",
      "match 2\n"
     ]
    }
   ],
   "source": [
    "if re.search(pattern, 'grey'):\n",
    "    print(\"match 1\")\n",
    "if re.search(pattern, 'qwertyuiop'):\n",
    "    print(\"match 2\")\n",
    "if re.search(pattern, 'rhythm myths'):\n",
    "    print(\"match 3\")  # будут найдены все строки, содержащие хотя бы один символ с набора"
   ]
  },
  {
   "cell_type": "code",
   "execution_count": 9,
   "id": "86f50a41",
   "metadata": {},
   "outputs": [
    {
     "name": "stdout",
     "output_type": "stream",
     "text": [
      "match 1\n"
     ]
    }
   ],
   "source": [
    "pattern = r\"[A-Z][A-Z][0-9]\"\n",
    "\n",
    "if re.search(pattern, 'LS8'):\n",
    "    print(\"match 1\")\n",
    "if re.search(pattern, 'E3'):\n",
    "    print(\"match 2\")\n",
    "if re.search(pattern, '1ab'):\n",
    "    print(\"match 3\")  # будут найдены все строки, содержащие хотя бы один символ с набора"
   ]
  },
  {
   "cell_type": "code",
   "execution_count": 10,
   "id": "e0d0e5ba",
   "metadata": {},
   "outputs": [],
   "source": [
    "# [^A-Z] - означает любой символ, кроме класса символов. ^ - знак инвертирования"
   ]
  },
  {
   "cell_type": "code",
   "execution_count": 11,
   "id": "f95476d8",
   "metadata": {},
   "outputs": [
    {
     "name": "stdout",
     "output_type": "stream",
     "text": [
      "match 1\n",
      "match 2\n"
     ]
    }
   ],
   "source": [
    "pattern = r\"[^A-Z]\"\n",
    "\n",
    "if re.search(pattern, 'this is all quiet'):\n",
    "    print(\"match 1\")\n",
    "if re.search(pattern, 'AbCdEfG123'):\n",
    "    print(\"match 2\")\n",
    "if re.search(pattern, 'THISISALLSHOUTING'):\n",
    "    print(\"match 3\")  # будут найдены все строки, содержащие хотя бы один символ с набора"
   ]
  },
  {
   "cell_type": "code",
   "execution_count": 12,
   "id": "e13c37e6",
   "metadata": {},
   "outputs": [
    {
     "name": "stdout",
     "output_type": "stream",
     "text": [
      "match 1\n",
      "match 2\n"
     ]
    }
   ],
   "source": [
    "pattern = r\"egg(smap)*\"  # будут найдены строки, начинающиеся с egg и содержащие неограниченное число spam\n",
    "\n",
    "if re.search(pattern, 'egg'):\n",
    "    print(\"match 1\")\n",
    "if re.search(pattern, 'eggspamspamegg'):\n",
    "    print(\"match 2\")\n",
    "if re.search(pattern, 'spam'):\n",
    "    print(\"match 3\")"
   ]
  },
  {
   "cell_type": "code",
   "execution_count": 13,
   "id": "56f9420a",
   "metadata": {},
   "outputs": [
    {
     "name": "stdout",
     "output_type": "stream",
     "text": [
      "match 1\n",
      "match 2\n"
     ]
    }
   ],
   "source": [
    "pattern = r\"ice(-)?cream\"\n",
    "\n",
    "if re.search(pattern, 'ice-cream'):\n",
    "    print(\"match 1\")\n",
    "if re.search(pattern, 'icecream'):\n",
    "    print(\"match 2\")\n",
    "if re.search(pattern, 'ice--cream'):\n",
    "    print(\"match 3\")\n",
    "if re.search(pattern, 'sausages'):\n",
    "    print(\"match 4\")"
   ]
  },
  {
   "cell_type": "code",
   "execution_count": 19,
   "id": "4009c6f7",
   "metadata": {},
   "outputs": [
    {
     "name": "stdout",
     "output_type": "stream",
     "text": [
      "match 1\n",
      "match 2\n",
      "match 3\n"
     ]
    }
   ],
   "source": [
    "pattern = r\"9{1,3}$\"\n",
    "\n",
    "if re.search(pattern, '9'):\n",
    "    print(\"match 1\")\n",
    "if re.search(pattern, '999'):\n",
    "    print(\"match 2\")\n",
    "if re.search(pattern, '9999'):\n",
    "    print(\"match 3\")"
   ]
  },
  {
   "cell_type": "code",
   "execution_count": 21,
   "id": "df5d1380",
   "metadata": {},
   "outputs": [
    {
     "name": "stdout",
     "output_type": "stream",
     "text": [
      "abcdefghi\n",
      "abcdefghi\n",
      "bc\n",
      "de\n",
      "('bc', 'de', 'fgh', 'g')\n"
     ]
    }
   ],
   "source": [
    "pattern = r\"a(bc)(de)(f(g)h)i\"\n",
    "\n",
    "match = re.match(pattern, 'abcdefghijklmnop')\n",
    "if match:\n",
    "    print(match.group())\n",
    "    print(match.group(0))\n",
    "    print(match.group(1))\n",
    "    print(match.group(2))\n",
    "    print(match.groups())  # возращает кортеж из всех найденных групп"
   ]
  },
  {
   "cell_type": "code",
   "execution_count": 24,
   "id": "572512d5",
   "metadata": {},
   "outputs": [
    {
     "name": "stdout",
     "output_type": "stream",
     "text": [
      "abc\n",
      "('abc', 'ghi')\n"
     ]
    }
   ],
   "source": [
    "pattern = r'(?P<first>abc)(?:def)(ghi)'\n",
    "# именнованные группы ?P<name>...\n",
    "# незахватывающие группы ?:...\n",
    "match = re.match(pattern, 'abcdefghi')\n",
    "if match:\n",
    "    print(match.group('first'))\n",
    "    print(match.groups())"
   ]
  },
  {
   "cell_type": "code",
   "execution_count": 25,
   "id": "1f570f46",
   "metadata": {},
   "outputs": [
    {
     "name": "stdout",
     "output_type": "stream",
     "text": [
      "match 1\n",
      "match 2\n"
     ]
    }
   ],
   "source": [
    "pattern = r'(.+) \\1'  # шаблон, а затем то же самое\n",
    "\n",
    "match = re.match(pattern, 'word word')\n",
    "if match:\n",
    "    print('match 1')\n",
    "match = re.match(pattern, '?! ?!')\n",
    "if match:\n",
    "    print('match 2')\n",
    "match = re.match(pattern, 'abc cde')\n",
    "if match:\n",
    "    print('match 3')"
   ]
  },
  {
   "cell_type": "code",
   "execution_count": 26,
   "id": "d07503b8",
   "metadata": {},
   "outputs": [],
   "source": [
    "# \\d - любая цифра, \\D - всё, кроме цифры\n",
    "# \\s - пробел, \\w - любая цифра или буква или _"
   ]
  },
  {
   "cell_type": "code",
   "execution_count": 28,
   "id": "2a93e7bb",
   "metadata": {},
   "outputs": [
    {
     "name": "stdout",
     "output_type": "stream",
     "text": [
      "match 1\n"
     ]
    }
   ],
   "source": [
    "pattern = r'(\\D+\\d)'\n",
    "\n",
    "match = re.match(pattern, 'Hi 999!')\n",
    "if match:\n",
    "    print('match 1')\n",
    "match = re.match(pattern, '1, 23, 456!')\n",
    "if match:\n",
    "    print('match 2')\n",
    "match = re.match(pattern, ' ! $?')\n",
    "if match:\n",
    "    print('match 3')"
   ]
  },
  {
   "cell_type": "code",
   "execution_count": 31,
   "id": "1a6e393d",
   "metadata": {},
   "outputs": [],
   "source": [
    "str = \"Please contact info@sololearn.com for assistance\""
   ]
  },
  {
   "cell_type": "code",
   "execution_count": 32,
   "id": "d2602430",
   "metadata": {},
   "outputs": [],
   "source": [
    "pattern = r'([\\w\\.-]+)@([\\w\\.-]+)(\\.[\\w\\.-]+)'"
   ]
  },
  {
   "cell_type": "code",
   "execution_count": 33,
   "id": "12ef01b5",
   "metadata": {},
   "outputs": [],
   "source": [
    "pattern = r'(4{5,6})\\1' # выдаст 10 или 12 четверок"
   ]
  },
  {
   "cell_type": "code",
   "execution_count": null,
   "id": "9690a745",
   "metadata": {},
   "outputs": [],
   "source": []
  }
 ],
 "metadata": {
  "kernelspec": {
   "display_name": "Python 3 (ipykernel)",
   "language": "python",
   "name": "python3"
  },
  "language_info": {
   "codemirror_mode": {
    "name": "ipython",
    "version": 3
   },
   "file_extension": ".py",
   "mimetype": "text/x-python",
   "name": "python",
   "nbconvert_exporter": "python",
   "pygments_lexer": "ipython3",
   "version": "3.10.7"
  }
 },
 "nbformat": 4,
 "nbformat_minor": 5
}
