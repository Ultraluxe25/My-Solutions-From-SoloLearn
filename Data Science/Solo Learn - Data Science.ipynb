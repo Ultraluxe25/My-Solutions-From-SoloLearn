{
 "cells": [
  {
   "cell_type": "markdown",
   "id": "ca48ed6b",
   "metadata": {},
   "source": [
    "# Data Manipulation with Numpy"
   ]
  },
  {
   "cell_type": "code",
   "execution_count": 1,
   "id": "849801e3",
   "metadata": {},
   "outputs": [],
   "source": [
    "import numpy as np"
   ]
  },
  {
   "cell_type": "code",
   "execution_count": 4,
   "id": "d68238f6",
   "metadata": {},
   "outputs": [
    {
     "name": "stdout",
     "output_type": "stream",
     "text": [
      "[ 1  2  3  4  5  6  7  8  9 10 11 12 13 14 15 16 17 18 19 20 21 22 23 24\n",
      " 25 26 27 28 29 30 31 32 33 34 35 36 37 38 39 40 41 42 43 44 45]\n",
      "\n",
      "[46 47 48 49 50 51 52 53 54 55 56 57 58 59 60 61 62 63 64 65 66 67 68 69\n",
      " 70 71 72 73 74 75 76 77 78 79 80 81 82 83 84 85 86 87 88 89 90]\n"
     ]
    }
   ],
   "source": [
    "group_1 = np.arange(1, 46)\n",
    "group_2 = np.arange(46, 91)\n",
    "\n",
    "print(group_1, end='\\n\\n')\n",
    "print(group_2)"
   ]
  },
  {
   "cell_type": "code",
   "execution_count": 5,
   "id": "2bd02523",
   "metadata": {},
   "outputs": [
    {
     "data": {
      "text/plain": [
       "(45,)"
      ]
     },
     "execution_count": 5,
     "metadata": {},
     "output_type": "execute_result"
    }
   ],
   "source": [
    "group_1.shape"
   ]
  },
  {
   "cell_type": "code",
   "execution_count": 7,
   "id": "3124ac5a",
   "metadata": {},
   "outputs": [
    {
     "data": {
      "text/plain": [
       "array([ 1,  2,  3,  4,  5,  6,  7,  8,  9, 10, 11, 12, 13, 14, 15, 16, 17,\n",
       "       18, 19, 20, 21, 22, 23, 24, 25, 26, 27, 28, 29, 30, 31, 32, 33, 34,\n",
       "       35, 36, 37, 38, 39, 40, 41, 42, 43, 44, 45, 46, 47, 48, 49, 50, 51,\n",
       "       52, 53, 54, 55, 56, 57, 58, 59, 60, 61, 62, 63, 64, 65, 66, 67, 68,\n",
       "       69, 70, 71, 72, 73, 74, 75, 76, 77, 78, 79, 80, 81, 82, 83, 84, 85,\n",
       "       86, 87, 88, 89, 90])"
      ]
     },
     "execution_count": 7,
     "metadata": {},
     "output_type": "execute_result"
    }
   ],
   "source": [
    "group_3 = np.hstack((group_1, group_2))\n",
    "group_3"
   ]
  },
  {
   "cell_type": "code",
   "execution_count": 8,
   "id": "c0ae5cdd",
   "metadata": {},
   "outputs": [
    {
     "data": {
      "text/plain": [
       "(90,)"
      ]
     },
     "execution_count": 8,
     "metadata": {},
     "output_type": "execute_result"
    }
   ],
   "source": [
    "group_3.shape"
   ]
  },
  {
   "cell_type": "code",
   "execution_count": 12,
   "id": "19b2686d",
   "metadata": {},
   "outputs": [
    {
     "data": {
      "text/plain": [
       "array([1, 2, 3])"
      ]
     },
     "execution_count": 12,
     "metadata": {},
     "output_type": "execute_result"
    }
   ],
   "source": [
    "group_3[:3]"
   ]
  },
  {
   "cell_type": "markdown",
   "id": "a140b449",
   "metadata": {},
   "source": [
    "### np.hstack [doc](https://numpy.org/doc/stable/reference/generated/numpy.hstack.html)\n",
    "\n",
    "```Python\n",
    "a = np.array((1,2,3))\n",
    "b = np.array((4,5,6))\n",
    "np.hstack((a,b))\n",
    "\n",
    "array([1, 2, 3, 4, 5, 6])\n",
    "\n",
    "a = np.array([[1],[2],[3]])\n",
    "b = np.array([[4],[5],[6]])\n",
    "np.hstack((a,b))\n",
    "\n",
    "array([[1, 4],\n",
    "       [2, 5],\n",
    "       [3, 6]])\n",
    "```"
   ]
  },
  {
   "cell_type": "code",
   "execution_count": 15,
   "id": "58b4703f",
   "metadata": {},
   "outputs": [
    {
     "data": {
      "text/plain": [
       "array([[ 1,  2,  3],\n",
       "       [46, 47, 48]])"
      ]
     },
     "execution_count": 15,
     "metadata": {},
     "output_type": "execute_result"
    }
   ],
   "source": [
    "group_4 = np.vstack((group_1, group_2))\n",
    "group_4[:, :3]"
   ]
  },
  {
   "cell_type": "code",
   "execution_count": 16,
   "id": "ae8b733e",
   "metadata": {},
   "outputs": [
    {
     "data": {
      "text/plain": [
       "(2, 45)"
      ]
     },
     "execution_count": 16,
     "metadata": {},
     "output_type": "execute_result"
    }
   ],
   "source": [
    "group_4.shape"
   ]
  },
  {
   "cell_type": "code",
   "execution_count": 17,
   "id": "e177076b",
   "metadata": {},
   "outputs": [],
   "source": [
    "a = np.arange(10)\n",
    "b = np.arange(10, 15)\n",
    "a.resize(5, 2)\n",
    "b.resize(5, 1)"
   ]
  },
  {
   "cell_type": "code",
   "execution_count": 19,
   "id": "d01ecda7",
   "metadata": {},
   "outputs": [
    {
     "data": {
      "text/plain": [
       "array([[ 0,  1, 10],\n",
       "       [ 2,  3, 11],\n",
       "       [ 4,  5, 12],\n",
       "       [ 6,  7, 13],\n",
       "       [ 8,  9, 14]])"
      ]
     },
     "execution_count": 19,
     "metadata": {},
     "output_type": "execute_result"
    }
   ],
   "source": [
    "np.concatenate((a, b), axis=1)"
   ]
  },
  {
   "cell_type": "code",
   "execution_count": 30,
   "id": "2156fa4a",
   "metadata": {},
   "outputs": [],
   "source": [
    "heights = np.array([189, 170, 189, 163, 183, 171, 185, 168, 173, 183, 173, 173, 175, 178, 183, 193, 178, 173, 174, 183, 183, 180, 168, 180, 170, 178, 182, 180, 183, 178, 182, 188, 175, 179, 183, 193, 182, 183, 177, 185, 188, 188, 182, 185, 191]).reshape(-1, 1)\n",
    "ages = np.array([57, 61, 57, 57, 58, 57, 61, 54, 68, 51, 49, 64, 50, 48, 65, 52, 56, 46, 54, 49, 51, 47, 55, 55, 54, 42, 51, 56, 55, 51, 54, 51, 60, 62, 43, 55, 56, 61, 52, 69, 64, 46, 54, 47, 70]).reshape(-1, 1)"
   ]
  },
  {
   "cell_type": "code",
   "execution_count": 32,
   "id": "886bfad9",
   "metadata": {},
   "outputs": [
    {
     "data": {
      "text/plain": [
       "array([[189,  57],\n",
       "       [170,  61],\n",
       "       [189,  57],\n",
       "       [163,  57],\n",
       "       [183,  58],\n",
       "       [171,  57],\n",
       "       [185,  61],\n",
       "       [168,  54],\n",
       "       [173,  68],\n",
       "       [183,  51],\n",
       "       [173,  49],\n",
       "       [173,  64],\n",
       "       [175,  50],\n",
       "       [178,  48],\n",
       "       [183,  65],\n",
       "       [193,  52],\n",
       "       [178,  56],\n",
       "       [173,  46],\n",
       "       [174,  54],\n",
       "       [183,  49],\n",
       "       [183,  51],\n",
       "       [180,  47],\n",
       "       [168,  55],\n",
       "       [180,  55],\n",
       "       [170,  54],\n",
       "       [178,  42],\n",
       "       [182,  51],\n",
       "       [180,  56],\n",
       "       [183,  55],\n",
       "       [178,  51],\n",
       "       [182,  54],\n",
       "       [188,  51],\n",
       "       [175,  60],\n",
       "       [179,  62],\n",
       "       [183,  43],\n",
       "       [193,  55],\n",
       "       [182,  56],\n",
       "       [183,  61],\n",
       "       [177,  52],\n",
       "       [185,  69],\n",
       "       [188,  64],\n",
       "       [188,  46],\n",
       "       [182,  54],\n",
       "       [185,  47],\n",
       "       [191,  70]])"
      ]
     },
     "execution_count": 32,
     "metadata": {},
     "output_type": "execute_result"
    }
   ],
   "source": [
    "height_age = np.hstack((heights, ages))\n",
    "height_age"
   ]
  },
  {
   "cell_type": "code",
   "execution_count": 33,
   "id": "9a62812c",
   "metadata": {},
   "outputs": [
    {
     "data": {
      "text/plain": [
       "(45, 2)"
      ]
     },
     "execution_count": 33,
     "metadata": {},
     "output_type": "execute_result"
    }
   ],
   "source": [
    "height_age.shape"
   ]
  },
  {
   "cell_type": "code",
   "execution_count": 36,
   "id": "c84d5ded",
   "metadata": {},
   "outputs": [
    {
     "data": {
      "text/plain": [
       "array([6.2007876, 5.577428 , 6.2007876, 5.3477692, 6.0039372, 5.6102364,\n",
       "       6.069554 , 5.5118112, 5.6758532, 6.0039372, 5.6758532, 5.6758532,\n",
       "       5.74147  , 5.8398952, 6.0039372, 6.3320212, 5.8398952, 5.6758532,\n",
       "       5.7086616, 6.0039372, 6.0039372, 5.905512 , 5.5118112, 5.905512 ,\n",
       "       5.577428 , 5.8398952, 5.9711288, 5.905512 , 6.0039372, 5.8398952,\n",
       "       5.9711288, 6.1679792, 5.74147  , 5.8727036, 6.0039372, 6.3320212,\n",
       "       5.9711288, 6.0039372, 5.8070868, 6.069554 , 6.1679792, 6.1679792,\n",
       "       5.9711288, 6.069554 , 6.2664044])"
      ]
     },
     "execution_count": 36,
     "metadata": {},
     "output_type": "execute_result"
    }
   ],
   "source": [
    "inch_height = height_age[:, 0] * 0.0328084\n",
    "inch_height"
   ]
  },
  {
   "cell_type": "code",
   "execution_count": 37,
   "id": "9613d697",
   "metadata": {},
   "outputs": [
    {
     "data": {
      "text/plain": [
       "array([1.89, 1.7 , 1.89, 1.63, 1.83, 1.71, 1.85, 1.68, 1.73, 1.83, 1.73,\n",
       "       1.73, 1.75, 1.78, 1.83, 1.93, 1.78, 1.73, 1.74, 1.83, 1.83, 1.8 ,\n",
       "       1.68, 1.8 , 1.7 , 1.78, 1.82, 1.8 , 1.83, 1.78, 1.82, 1.88, 1.75,\n",
       "       1.79, 1.83, 1.93, 1.82, 1.83, 1.77, 1.85, 1.88, 1.88, 1.82, 1.85,\n",
       "       1.91])"
      ]
     },
     "execution_count": 37,
     "metadata": {},
     "output_type": "execute_result"
    }
   ],
   "source": [
    "meters_height = height_age[:, 0] / 100\n",
    "meters_height"
   ]
  },
  {
   "cell_type": "code",
   "execution_count": 39,
   "id": "831d94e5",
   "metadata": {},
   "outputs": [
    {
     "data": {
      "text/plain": [
       "10575"
      ]
     },
     "execution_count": 39,
     "metadata": {},
     "output_type": "execute_result"
    }
   ],
   "source": [
    "height_age.sum()"
   ]
  },
  {
   "cell_type": "code",
   "execution_count": 40,
   "id": "13724429",
   "metadata": {},
   "outputs": [
    {
     "data": {
      "text/plain": [
       "array([8100, 2475])"
      ]
     },
     "execution_count": 40,
     "metadata": {},
     "output_type": "execute_result"
    }
   ],
   "source": [
    "height_age.sum(axis=0)"
   ]
  },
  {
   "cell_type": "code",
   "execution_count": 41,
   "id": "16174d2f",
   "metadata": {},
   "outputs": [
    {
     "data": {
      "text/plain": [
       "array([246, 231, 246, 220, 241, 228, 246, 222, 241, 234, 222, 237, 225,\n",
       "       226, 248, 245, 234, 219, 228, 232, 234, 227, 223, 235, 224, 220,\n",
       "       233, 236, 238, 229, 236, 239, 235, 241, 226, 248, 238, 244, 229,\n",
       "       254, 252, 234, 236, 232, 261])"
      ]
     },
     "execution_count": 41,
     "metadata": {},
     "output_type": "execute_result"
    }
   ],
   "source": [
    "height_age.sum(axis=1)"
   ]
  },
  {
   "cell_type": "markdown",
   "id": "6f0e8b82",
   "metadata": {},
   "source": [
    "we might be interested in only those presidents who started their presidency younger than 55 years old."
   ]
  },
  {
   "cell_type": "code",
   "execution_count": 45,
   "id": "c89a8745",
   "metadata": {},
   "outputs": [
    {
     "data": {
      "text/plain": [
       "array([False, False, False, False, False, False, False,  True, False,\n",
       "        True,  True, False,  True,  True, False,  True, False,  True,\n",
       "        True,  True,  True,  True, False, False,  True,  True,  True,\n",
       "       False, False,  True,  True,  True, False, False,  True, False,\n",
       "       False, False,  True, False, False,  True,  True,  True, False])"
      ]
     },
     "execution_count": 45,
     "metadata": {},
     "output_type": "execute_result"
    }
   ],
   "source": [
    "height_age[:, 1] < 55"
   ]
  },
  {
   "cell_type": "code",
   "execution_count": 44,
   "id": "90bb0bd3",
   "metadata": {},
   "outputs": [
    {
     "data": {
      "text/plain": [
       "array([[168,  54],\n",
       "       [183,  51],\n",
       "       [173,  49],\n",
       "       [175,  50],\n",
       "       [178,  48],\n",
       "       [193,  52],\n",
       "       [173,  46],\n",
       "       [174,  54],\n",
       "       [183,  49],\n",
       "       [183,  51],\n",
       "       [180,  47],\n",
       "       [170,  54],\n",
       "       [178,  42],\n",
       "       [182,  51],\n",
       "       [178,  51],\n",
       "       [182,  54],\n",
       "       [188,  51],\n",
       "       [183,  43],\n",
       "       [177,  52],\n",
       "       [188,  46],\n",
       "       [182,  54],\n",
       "       [185,  47]])"
      ]
     },
     "execution_count": 44,
     "metadata": {},
     "output_type": "execute_result"
    }
   ],
   "source": [
    "height_age[height_age[:, 1] < 55]  # using mask"
   ]
  },
  {
   "cell_type": "code",
   "execution_count": 47,
   "id": "fb89c7fe",
   "metadata": {},
   "outputs": [
    {
     "data": {
      "text/plain": [
       "22"
      ]
     },
     "execution_count": 47,
     "metadata": {},
     "output_type": "execute_result"
    }
   ],
   "source": [
    "(height_age[:, 1] < 55).sum()"
   ]
  },
  {
   "cell_type": "code",
   "execution_count": 48,
   "id": "41c3bdc7",
   "metadata": {},
   "outputs": [
    {
     "data": {
      "text/plain": [
       "8"
      ]
     },
     "execution_count": 48,
     "metadata": {},
     "output_type": "execute_result"
    }
   ],
   "source": [
    "mask = height_age[:, 0] >= 186\n",
    "mask.sum()"
   ]
  },
  {
   "cell_type": "code",
   "execution_count": 50,
   "id": "c631d439",
   "metadata": {},
   "outputs": [
    {
     "data": {
      "text/plain": [
       "array([[189,  57],\n",
       "       [189,  57],\n",
       "       [193,  52],\n",
       "       [188,  51],\n",
       "       [193,  55],\n",
       "       [188,  64],\n",
       "       [188,  46],\n",
       "       [191,  70]])"
      ]
     },
     "execution_count": 50,
     "metadata": {},
     "output_type": "execute_result"
    }
   ],
   "source": [
    "tall_presidents = height_age[mask]\n",
    "tall_presidents"
   ]
  },
  {
   "cell_type": "code",
   "execution_count": 52,
   "id": "94ac23e0",
   "metadata": {},
   "outputs": [
    {
     "data": {
      "text/plain": [
       "1"
      ]
     },
     "execution_count": 52,
     "metadata": {},
     "output_type": "execute_result"
    }
   ],
   "source": [
    "mask = (height_age[:, 0] >= 186) & (height_age[:, 1] <= 50)\n",
    "mask.sum()"
   ]
  },
  {
   "cell_type": "code",
   "execution_count": 53,
   "id": "5555dedc",
   "metadata": {},
   "outputs": [
    {
     "data": {
      "text/plain": [
       "array([[188,  46]])"
      ]
     },
     "execution_count": 53,
     "metadata": {},
     "output_type": "execute_result"
    }
   ],
   "source": [
    "height_age[mask]"
   ]
  },
  {
   "cell_type": "markdown",
   "id": "11b7c9ec",
   "metadata": {},
   "source": [
    "# Task 1"
   ]
  },
  {
   "cell_type": "markdown",
   "id": "e94a0d60",
   "metadata": {},
   "source": [
    "### Data Science - Average of Rows\n",
    "\n",
    "\n",
    "In a matrix, or 2-d array X, the averages (or means) of the elements of rows is called row means.\n",
    "\n",
    "**Task**\n",
    "Given a 2D array, return the rowmeans.\n",
    "\n",
    "**Input Format**\n",
    "First line: two integers separated by spaces, the first indicates the rows of matrix X (n) and the second indicates the columns of X (p)\n",
    "Next n lines: values of the row in X\n",
    "\n",
    "**Output Format**\n",
    "An numpy 1d array of values rounded to the second decimal.\n",
    "\n",
    "```Python\n",
    "2 2\n",
    "1.5 1\n",
    "2 2.9\n",
    "```\n",
    "\n",
    "**Sample Output**\n",
    "[1.25 2.45]\n",
    "\n",
    "**Explanation**\n",
    "The first row has two numbers 1.5 and 1, thus the sum is 1.5 + 1 = 2.5 and the mean is then 2.5/2 = 1.25. Then for the second row, the average is calculated as (2 + 2.9)/2 = 4.9/2 = 2.45."
   ]
  },
  {
   "cell_type": "markdown",
   "id": "0ac3d6a4",
   "metadata": {},
   "source": [
    "### My solution:\n",
    "```Python\n",
    "import numpy as np\n",
    "\n",
    "fix = lambda x: list(map(float, x.split()))\n",
    "\n",
    "dimension = fix(input())\n",
    "n, p = [int(i) for i in dimension]\n",
    "\n",
    "numbers_array = np.array([fix(input()) for _ in range(n)])\n",
    "\n",
    "rounded = np.around(numbers_array.sum(axis=1) / p, 2)\n",
    "print(rounded)\n",
    "```"
   ]
  }
 ],
 "metadata": {
  "kernelspec": {
   "display_name": "Python 3 (ipykernel)",
   "language": "python",
   "name": "python3"
  },
  "language_info": {
   "codemirror_mode": {
    "name": "ipython",
    "version": 3
   },
   "file_extension": ".py",
   "mimetype": "text/x-python",
   "name": "python",
   "nbconvert_exporter": "python",
   "pygments_lexer": "ipython3",
   "version": "3.10.8"
  }
 },
 "nbformat": 4,
 "nbformat_minor": 5
}
